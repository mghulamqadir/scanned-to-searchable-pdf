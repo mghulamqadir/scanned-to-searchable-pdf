{
  "nbformat": 4,
  "nbformat_minor": 0,
  "metadata": {
    "colab": {
      "provenance": [],
      "include_colab_link": true
    },
    "kernelspec": {
      "name": "python3",
      "display_name": "Python 3"
    },
    "language_info": {
      "name": "python"
    },
    "accelerator": "GPU",
    "gpuClass": "standard"
  },
  "cells": [
    {
      "cell_type": "markdown",
      "metadata": {
        "id": "view-in-github",
        "colab_type": "text"
      },
      "source": [
        "<a href=\"https://colab.research.google.com/github/mghulamqadir/scanned-to-searchable-pdf/blob/colab/app-colab.py.ipynb\" target=\"_parent\"><img src=\"https://colab.research.google.com/assets/colab-badge.svg\" alt=\"Open In Colab\"/></a>"
      ]
    },
    {
      "cell_type": "code",
      "source": [
        "!apt-get -qq update\n",
        "!apt-get -qq install -y tesseract-ocr ghostscript qpdf unpaper\n",
        "!pip install -q ocrmypdf PyPDF2"
      ],
      "metadata": {
        "colab": {
          "base_uri": "https://localhost:8080/"
        },
        "id": "LtiDjpfUktd7",
        "outputId": "b958dd12-58d5-4987-8ded-7d16727bf3f9"
      },
      "execution_count": 2,
      "outputs": [
        {
          "output_type": "stream",
          "name": "stdout",
          "text": [
            "W: Skipping acquire of configured file 'main/source/Sources' as repository 'https://r2u.stat.illinois.edu/ubuntu jammy InRelease' does not seem to provide it (sources.list entry misspelt?)\n"
          ]
        }
      ]
    },
    {
      "cell_type": "code",
      "source": [
        "from google.colab import files\n",
        "from pathlib import Path\n",
        "import shutil\n",
        "\n",
        "print(\"📤 Please upload a scanned PDF file (≤200MB)\")\n",
        "uploaded = files.upload()\n",
        "\n",
        "uploaded_filename = next(iter(uploaded))\n",
        "input_path = Path(uploaded_filename)\n",
        "output_path = Path(f\"OCR_{input_path.stem}.pdf\")\n",
        "\n",
        "from PyPDF2 import PdfReader\n",
        "\n",
        "try:\n",
        "    reader = PdfReader(str(input_path))\n",
        "    total_pages = len(reader.pages)\n",
        "    print(f\"🔢 Total pages detected: {total_pages}\")\n",
        "except Exception as e:\n",
        "    print(f\"❌ Failed to read PDF: {e}\")\n",
        "\n",
        "import ocrmypdf\n",
        "import multiprocessing\n",
        "\n",
        "try:\n",
        "    print(\"🔄 Running OCR on uploaded PDF...\")\n",
        "    print(f\"Number of cores are: {multiprocessing.cpu_count()}\")\n",
        "    ocrmypdf.ocr(\n",
        "        input_file=str(input_path),\n",
        "        output_file=str(output_path),\n",
        "        language=\"eng\",\n",
        "        deskew=True,\n",
        "        skip_text=True,\n",
        "        output_type=\"pdfa-2\",\n",
        "        progress_bar=True,\n",
        "        jobs=max(multiprocessing.cpu_count(), 1)\n",
        "    )\n",
        "    print(f\"✅ OCR complete: {output_path}\")\n",
        "except Exception as e:\n",
        "    print(f\"❌ Error during OCR: {e}\")\n",
        "\n",
        "files.download(str(output_path))"
      ],
      "metadata": {
        "id": "vg6EiBHrkx6W"
      },
      "execution_count": null,
      "outputs": []
    }
  ]
}